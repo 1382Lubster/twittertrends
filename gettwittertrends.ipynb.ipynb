{
  "nbformat": 4,
  "nbformat_minor": 0,
  "metadata": {
    "colab": {
      "name": "Untitled27.ipynb",
      "provenance": []
    },
    "kernelspec": {
      "name": "python3",
      "display_name": "Python 3"
    },
    "language_info": {
      "name": "python"
    }
  },
  "cells": [
    {
      "cell_type": "markdown",
      "source": [
        "# Install necessary libraries"
      ],
      "metadata": {
        "id": "LVPlG4J9WAYq"
      }
    },
    {
      "cell_type": "code",
      "source": [
        "!pip install geocoder==1.38.1"
      ],
      "metadata": {
        "colab": {
          "base_uri": "https://localhost:8080/"
        },
        "id": "608zbXejTEXr",
        "outputId": "c59e4b4b-8ca4-4e10-88db-0ce2d1e59dd0"
      },
      "execution_count": 6,
      "outputs": [
        {
          "output_type": "stream",
          "name": "stdout",
          "text": [
            "Requirement already satisfied: geocoder==1.38.1 in /usr/local/lib/python3.7/dist-packages (1.38.1)\n",
            "Requirement already satisfied: requests in /usr/local/lib/python3.7/dist-packages (from geocoder==1.38.1) (2.23.0)\n",
            "Requirement already satisfied: future in /usr/local/lib/python3.7/dist-packages (from geocoder==1.38.1) (0.16.0)\n",
            "Requirement already satisfied: six in /usr/local/lib/python3.7/dist-packages (from geocoder==1.38.1) (1.15.0)\n",
            "Requirement already satisfied: ratelim in /usr/local/lib/python3.7/dist-packages (from geocoder==1.38.1) (0.1.6)\n",
            "Requirement already satisfied: click in /usr/local/lib/python3.7/dist-packages (from geocoder==1.38.1) (7.1.2)\n",
            "Requirement already satisfied: decorator in /usr/local/lib/python3.7/dist-packages (from ratelim->geocoder==1.38.1) (4.4.2)\n",
            "Requirement already satisfied: idna<3,>=2.5 in /usr/local/lib/python3.7/dist-packages (from requests->geocoder==1.38.1) (2.10)\n",
            "Requirement already satisfied: certifi>=2017.4.17 in /usr/local/lib/python3.7/dist-packages (from requests->geocoder==1.38.1) (2021.10.8)\n",
            "Requirement already satisfied: urllib3!=1.25.0,!=1.25.1,<1.26,>=1.21.1 in /usr/local/lib/python3.7/dist-packages (from requests->geocoder==1.38.1) (1.24.3)\n",
            "Requirement already satisfied: chardet<4,>=3.0.2 in /usr/local/lib/python3.7/dist-packages (from requests->geocoder==1.38.1) (3.0.4)\n"
          ]
        }
      ]
    },
    {
      "cell_type": "markdown",
      "source": [
        "# Create a file gettrends.py"
      ],
      "metadata": {
        "id": "H1nPN4EJWJC1"
      }
    },
    {
      "cell_type": "code",
      "execution_count": 9,
      "metadata": {
        "colab": {
          "base_uri": "https://localhost:8080/"
        },
        "id": "CHDRzk2iS-An",
        "outputId": "b59641ec-2aaf-4454-c0f6-616062bc6d21"
      },
      "outputs": [
        {
          "output_type": "stream",
          "name": "stdout",
          "text": [
            "Overwriting gettrends.py\n"
          ]
        }
      ],
      "source": [
        "%%file gettrends.py\n",
        "\n",
        "import tweepy\n",
        "import os\n",
        "import json\n",
        "import sys\n",
        "import geocoder\n",
        "\n",
        "# API Keys and Tokens\n",
        "# Authenticate\n",
        "consumer_key= 'xxxxxxxx'\n",
        "consumer_secret= 'xxxxxxx'\n",
        "access_token= 'xxxxxxxxxxxxxxxxx'\n",
        "access_token_secret= 'xxxxxxxxxxxxxxxxxx'\n",
        "\n",
        "# Authorization and Authentication\n",
        "auth = tweepy.OAuthHandler(consumer_key, consumer_secret)\n",
        "auth.set_access_token(access_token, access_token_secret)\n",
        "api = tweepy.API(auth)\n",
        "\n",
        "# Available Locations\n",
        "available_loc = api.trends_available()\n",
        "# writing a JSON file that has the available trends around the world\n",
        "with open(\"available_locs_for_trend.json\",\"w\") as wp:\n",
        "    wp.write(json.dumps(available_loc, indent=1))\n",
        "\n",
        "# Trends for Specific Country\n",
        "loc = sys.argv[1]     # location as argument variable \n",
        "g = geocoder.osm(loc) # getting object that has location's latitude and longitude\n",
        "\n",
        "closest_loc = api.trends_closest(g.lat, g.lng)\n",
        "trends = api.trends_place(closest_loc[0]['woeid'])\n",
        "# writing a JSON file that has the latest trends for that location\n",
        "with open(\"twitter_{}_trends.json\".format(loc),\"w\") as wp:\n",
        "    wp.write(json.dumps(trends, indent=1))"
      ]
    },
    {
      "cell_type": "markdown",
      "source": [
        "# Run file gettrends.py GB to get twitter trends for UK"
      ],
      "metadata": {
        "id": "8LC0r762WPV4"
      }
    },
    {
      "cell_type": "code",
      "source": [
        "!python gettrends.py GB"
      ],
      "metadata": {
        "id": "Vh2apKBJTUnw"
      },
      "execution_count": 10,
      "outputs": []
    }
  ]
}